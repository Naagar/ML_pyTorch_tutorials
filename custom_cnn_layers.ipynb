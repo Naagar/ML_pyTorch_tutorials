{
  "nbformat": 4,
  "nbformat_minor": 0,
  "metadata": {
    "colab": {
      "provenance": []
    },
    "kernelspec": {
      "name": "python3",
      "display_name": "Python 3"
    },
    "language_info": {
      "name": "python"
    }
  },
  "cells": [
    {
      "cell_type": "code",
      "execution_count": 1,
      "metadata": {
        "id": "JEpKpnwzLAFO"
      },
      "outputs": [],
      "source": [
        "import torch\n",
        "import torch.nn as nn"
      ]
    },
    {
      "cell_type": "code",
      "source": [
        "class custom_layer(nn.Module):\n",
        "  def __init__(self, input_size):\n",
        "    super().__init__() # to initalize parent class\n",
        "    self.input_size = input_size\n",
        "    # weights = torch.Tensor(self.input_size)\n",
        "    self.weights = nn.Parameter(torch.Tensor(self.input_size))\n",
        "    torch.nn.init.normal_(self.weights, mean = 0.0, std = 1.0)\n",
        "  def forward(self, x):\n",
        "    return x * self.weights\n",
        "    # def backward(input, self.weights):\n",
        "    #   return "
      ],
      "metadata": {
        "id": "rx2XWnyuLIi9"
      },
      "execution_count": 54,
      "outputs": []
    },
    {
      "cell_type": "code",
      "source": [
        "n = 5 # input size \n",
        "input = torch.ones((n,n))"
      ],
      "metadata": {
        "id": "R5neKmXgNBEs"
      },
      "execution_count": 60,
      "outputs": []
    },
    {
      "cell_type": "code",
      "source": [
        "output = custom_layer(input)\n",
        "output.weights"
      ],
      "metadata": {
        "colab": {
          "base_uri": "https://localhost:8080/"
        },
        "id": "FtSM16VvNNQD",
        "outputId": "33aca836-8b8e-407c-94ac-11ce74432c1e"
      },
      "execution_count": 61,
      "outputs": [
        {
          "output_type": "execute_result",
          "data": {
            "text/plain": [
              "Parameter containing:\n",
              "tensor([[ 0.1842, -1.4127,  1.2598, -0.2967, -1.0157],\n",
              "        [-0.7557, -1.4393,  0.4151, -0.8870,  0.1215],\n",
              "        [-0.3051, -0.3854, -2.4786, -0.9024,  1.4493],\n",
              "        [-0.2255,  0.0386, -0.9429,  0.4388, -0.6178],\n",
              "        [-1.4406,  1.1148, -1.0856, -0.0504,  0.1290]], requires_grad=True)"
            ]
          },
          "metadata": {},
          "execution_count": 61
        }
      ]
    },
    {
      "cell_type": "code",
      "source": [
        "custom_model = nn.Sequential(\n",
        "    custom_layer(n),\n",
        "    nn.ReLU()\n",
        "    )"
      ],
      "metadata": {
        "id": "zSjCjHDjNgeS"
      },
      "execution_count": 73,
      "outputs": []
    },
    {
      "cell_type": "code",
      "source": [
        "custom_model"
      ],
      "metadata": {
        "colab": {
          "base_uri": "https://localhost:8080/"
        },
        "id": "jTH9_vuOOvfQ",
        "outputId": "34f8ef9b-ee94-48a3-9247-0e80caee513e"
      },
      "execution_count": 74,
      "outputs": [
        {
          "output_type": "execute_result",
          "data": {
            "text/plain": [
              "Sequential(\n",
              "  (0): custom_layer()\n",
              "  (1): ReLU()\n",
              ")"
            ]
          },
          "metadata": {},
          "execution_count": 74
        }
      ]
    },
    {
      "cell_type": "code",
      "source": [
        "custom_model(input)"
      ],
      "metadata": {
        "colab": {
          "base_uri": "https://localhost:8080/"
        },
        "id": "ys7nogpLO0Mp",
        "outputId": "f4a9e804-1187-463c-e9fd-7c62573322ca"
      },
      "execution_count": 75,
      "outputs": [
        {
          "output_type": "execute_result",
          "data": {
            "text/plain": [
              "tensor([[0.0000, 0.5025, 0.0000, 0.0319, 0.0000],\n",
              "        [0.2440, 0.5120, 0.0000, 0.0954, 0.0425],\n",
              "        [0.0985, 0.1371, 0.9794, 0.0971, 0.5063],\n",
              "        [0.0728, 0.0000, 0.3726, 0.0000, 0.0000],\n",
              "        [0.4652, 0.0000, 0.4290, 0.0054, 0.0451]], grad_fn=<ReluBackward0>)"
            ]
          },
          "metadata": {},
          "execution_count": 75
        }
      ]
    },
    {
      "cell_type": "code",
      "source": [],
      "metadata": {
        "id": "KD9KX6iDO7cw"
      },
      "execution_count": null,
      "outputs": []
    }
  ]
}